{
 "cells": [
  {
   "cell_type": "markdown",
   "metadata": {},
   "source": [
    "# Dr Turow Factivia NLP Data Anaylsis Request\n",
    "## Etienne Jacquot - ASC IT SYSADMIN - epj@asc.upenn.edu\n",
    "### Last edited: 09/24/2019\n",
    "\n",
    "_________________________"
   ]
  },
  {
   "cell_type": "markdown",
   "metadata": {},
   "source": [
    "## In the below analysis, we will perform the following steps:\n",
    "1. Open & Read the Factivia File provided by Dr Turow\n",
    "2. Create list of dictionaries which contain **document ID**, **article text**, **tokens**, and **POS tags**\n",
    "3. Looking at *Collocates* around key terms: **Voice**, **Surveillance**, and **Privacy**\n",
    "4. Looking at *Concordance* for usage of key terms\n",
    "4. Use NLTK for *Natural Language Processing* to find most common **adjectives** used **10 words to the left and right** of these key terms"
   ]
  },
  {
   "cell_type": "markdown",
   "metadata": {},
   "source": [
    "__________\n",
    "## Extracting Data from File"
   ]
  },
  {
   "cell_type": "code",
   "execution_count": 1,
   "metadata": {},
   "outputs": [],
   "source": [
    "%run Functions.ipynb\n",
    "# These is a jturow function in that other notebook which grabbed nouns, verbs, adjectives...\n",
    "# the request has since changed so this is currently not in use\n",
    "# Please also note most if not all of the functions were authored by Matt O'Donnell at ASC"
   ]
  },
  {
   "cell_type": "code",
   "execution_count": 2,
   "metadata": {},
   "outputs": [],
   "source": [
    "characters_to_remove = '!,.()[]\"'"
   ]
  },
  {
   "cell_type": "code",
   "execution_count": 3,
   "metadata": {},
   "outputs": [
    {
     "name": "stdout",
     "output_type": "stream",
     "text": [
      "Factiva-Smart_Speaker_and_Voice.txt\n"
     ]
    }
   ],
   "source": [
    "# Check for file that Dr Turow provided is uploaded to Jupyterhub, this was .rtf so I converted & saved as .txt utf-16\n",
    "for item in os.listdir('../JTurow_Data'):\n",
    "    if item.endswith('.txt'):\n",
    "        print(item)"
   ]
  },
  {
   "cell_type": "code",
   "execution_count": 4,
   "metadata": {},
   "outputs": [],
   "source": [
    "# Read file of text data\n",
    "for item in os.listdir('../JTurow_Data'):\n",
    "    if item.endswith('.txt'):\n",
    "        text = open('../JTurow_Data/'+ item,'r',encoding=\"UTF-16\").read().splitlines()\n",
    "\n",
    "# Preparing to capture data as list of dictionaries\n",
    "articles_total=[]\n",
    "articles = {}\n",
    "article_txt=[]\n",
    "\n",
    "# Go through lines in article to separate individual articles\n",
    "for line in text:\n",
    "    article_txt += [line]\n",
    "    # Each article ends with this Document Line\n",
    "    if line.startswith('Document ') and len(line) == 34:\n",
    "        doc_id = line.split()[1]\n",
    "        articles = {'document_ID':doc_id,\n",
    "                    'article_text':article_txt, \n",
    "                    'tokens':[],\n",
    "                    'POS_tag':[]\n",
    "                        }\n",
    "        articles_total.append(articles)    \n",
    "        article_txt = []"
   ]
  },
  {
   "cell_type": "code",
   "execution_count": 5,
   "metadata": {
    "scrolled": true
   },
   "outputs": [
    {
     "data": {
      "text/plain": [
       "100"
      ]
     },
     "execution_count": 5,
     "metadata": {},
     "output_type": "execute_result"
    }
   ],
   "source": [
    "# Total number of articles provided by Dr Turow\n",
    "len(articles_total)"
   ]
  },
  {
   "cell_type": "code",
   "execution_count": 6,
   "metadata": {},
   "outputs": [],
   "source": [
    "# Extracting tokens from article texts and updating the dictionary\n",
    "tokens = []\n",
    "total_tokens = []\n",
    "for article in articles_total:\n",
    "    for words in article['article_text']:\n",
    "        tokens += tokenize(words,strip_chars=characters_to_remove,lowercase=True)\n",
    "    \n",
    "    # Also creating total_tokens which is all tokens in one list\n",
    "    total_tokens += tokens\n",
    "    article['tokens']+= tokens\n",
    "    tokens = []"
   ]
  },
  {
   "cell_type": "code",
   "execution_count": 7,
   "metadata": {},
   "outputs": [],
   "source": [
    "# Applying NLTK part of speech tagging to tokens and then updating the dictionary\n",
    "import nltk\n",
    "for article in articles_total:\n",
    "    for words in article['tokens']:\n",
    "        word = [words]\n",
    "        nltk_text = nltk.pos_tag(word)\n",
    "        article['POS_tag'] += nltk_text "
   ]
  },
  {
   "cell_type": "markdown",
   "metadata": {},
   "source": [
    "_________________"
   ]
  },
  {
   "cell_type": "markdown",
   "metadata": {},
   "source": [
    "\n",
    "## Looking for Collocates near instances of **\"Voice\"**, **\"Surveillance\"**, and **\"Privacy\"** in the articles"
   ]
  },
  {
   "cell_type": "code",
   "execution_count": 8,
   "metadata": {},
   "outputs": [
    {
     "name": "stdout",
     "output_type": "stream",
     "text": [
      "Article ID is: CNEWSN0020190607ef6700004 -- this article contains reference of \"surveillance\"\n"
     ]
    }
   ],
   "source": [
    "#Only one article which references surveillance\n",
    "for article in articles_total:\n",
    "    for word in article['tokens']:\n",
    "        if word == 'surveillance':\n",
    "            print('Article ID is:',article['document_ID'], '-- this article contains reference of \"surveillance\"')"
   ]
  },
  {
   "cell_type": "code",
   "execution_count": 9,
   "metadata": {},
   "outputs": [
    {
     "data": {
      "text/plain": [
       "[('a', 2),\n",
       " ('see', 1),\n",
       " ('in', 1),\n",
       " ('the', 1),\n",
       " ('future', 1),\n",
       " ('read:', 1),\n",
       " (\"amazon's\", 1),\n",
       " ('helping', 1),\n",
       " ('police', 1),\n",
       " ('build', 1),\n",
       " ('network', 1),\n",
       " ('with', 1),\n",
       " ('ring', 1),\n",
       " ('doorbells', 1),\n",
       " ('alexa', 1)]"
      ]
     },
     "execution_count": 9,
     "metadata": {},
     "output_type": "execute_result"
    }
   ],
   "source": [
    "# Pulling collocates on word 'surveillance', 10 to left and 10 to right\n",
    "jturow_surveillance_colls = Counter()\n",
    "for article in articles_total:\n",
    "    jturow_surveillance_colls.update(collocates(article['tokens'],'surveillance', win=[10,10]))\n",
    "jturow_surveillance_colls.most_common(15)"
   ]
  },
  {
   "cell_type": "code",
   "execution_count": 10,
   "metadata": {},
   "outputs": [
    {
     "data": {
      "text/plain": [
       "[('the', 258),\n",
       " ('to', 141),\n",
       " ('and', 125),\n",
       " ('a', 119),\n",
       " ('of', 115),\n",
       " ('with', 96),\n",
       " ('assistant', 81),\n",
       " ('you', 63),\n",
       " ('alexa', 59),\n",
       " ('google', 55),\n",
       " ('in', 53),\n",
       " ('smart', 49),\n",
       " ('that', 49),\n",
       " ('commands', 48),\n",
       " ('it', 45)]"
      ]
     },
     "execution_count": 10,
     "metadata": {},
     "output_type": "execute_result"
    }
   ],
   "source": [
    "# Pulling collocates on word 'voice', 10 to left and 10 to right\n",
    "jturow_voice_colls = Counter()\n",
    "for article in articles_total:\n",
    "    jturow_voice_colls.update(collocates(article['tokens'],'voice', win=[10,10]))\n",
    "jturow_voice_colls.most_common(15)"
   ]
  },
  {
   "cell_type": "code",
   "execution_count": 11,
   "metadata": {},
   "outputs": [
    {
     "data": {
      "text/plain": [
       "[('the', 39),\n",
       " ('to', 34),\n",
       " ('a', 34),\n",
       " ('and', 28),\n",
       " ('of', 20),\n",
       " ('alexa', 14),\n",
       " ('concerns', 13),\n",
       " ('as', 12),\n",
       " ('on', 12),\n",
       " ('about', 11),\n",
       " ('it', 11),\n",
       " ('has', 10),\n",
       " ('that', 9),\n",
       " ('for', 8),\n",
       " ('in', 8)]"
      ]
     },
     "execution_count": 11,
     "metadata": {},
     "output_type": "execute_result"
    }
   ],
   "source": [
    "# Pulling collocates on word 'privacy', 10 to left and 10 to right\n",
    "jturow_privacy_colls = Counter()\n",
    "for article in articles_total:\n",
    "    jturow_privacy_colls.update(collocates(article['tokens'],'privacy', win=[10,10]))\n",
    "jturow_privacy_colls.most_common(15)"
   ]
  },
  {
   "cell_type": "markdown",
   "metadata": {},
   "source": [
    "__________\n",
    "## Looking for Concordance usage of terms **\"Voice\"**, **\"Surveillance\"**, and **\"Privacy\"** in the articles"
   ]
  },
  {
   "cell_type": "code",
   "execution_count": 12,
   "metadata": {},
   "outputs": [],
   "source": [
    "# Pulling concordance for words 'voice' and 'surveillance' and displaying random sampling\n",
    "kwic_voice=[]\n",
    "kwic_surv=[]\n",
    "kwic_priv=[]\n",
    "for article in articles_total:\n",
    "    kwic_voice.extend(make_kwic('voice', article['tokens']))\n",
    "    kwic_surv.extend(make_kwic('surveillance', article['tokens']))\n",
    "    kwic_priv.extend(make_kwic('privacy', article['tokens']))\n",
    "    \n",
    "# For random sampling, not used here...\n",
    "#sample_kwic_voice = random.sample(kwic_voice,30)\n",
    "#sample_kwic_surv = random.sample(kwic_surv,1)\n",
    "#sample_kwic_voice = sort_kwic(sample_kwic_voice, order=['L1'])\n",
    "#sample_kwic_surv = sort_kwic(sample_kwic_surv, order=['L1'])\n"
   ]
  },
  {
   "cell_type": "code",
   "execution_count": 13,
   "metadata": {},
   "outputs": [
    {
     "name": "stdout",
     "output_type": "stream",
     "text": [
      "Number of kwic for word \"surveillance\" is: 1\n",
      "                                             see in the future read: amazon's helping police build a  surveillance  network with ring doorbells alexa amazon has been a leader\n"
     ]
    }
   ],
   "source": [
    "print('Number of kwic for word \"surveillance\" is:', len(kwic_surv))\n",
    "print_kwic(kwic_surv)"
   ]
  },
  {
   "cell_type": "code",
   "execution_count": 14,
   "metadata": {},
   "outputs": [
    {
     "name": "stdout",
     "output_type": "stream",
     "text": [
      "Number of kwic for word \"voice\" is: 259\n",
      "                                         with alexa google assistant and siri via apple homekit best  voice  control ecobee smartthermostat click to view image chris monroe/cnet the\n",
      "                                                 standing directly in front of it aside from using a  voice  command testing a thermostat let's talk about testing smart thermostats\n",
      "                                           or siri most connected thermostats work with at least one  voice  assistant and some like the ecobee3 lite and ecobee smartthermostat\n",
      "                                          lite and ecobee smartthermostat work with all three do the  voice  commands flow naturally like they would in an actual conversation?\n",
      "                                                if the goal of these companies is to eventually have  voice  assistants that we can have natural-sounding conversations with -— rather\n",
      "                                           c cnet networks inc all rights reserved alexa is amazon's  voice  assistant accessible via compatible alexa smart speakers and displays start\n",
      "                                         introduced its first amazon echo speaker in 2014 ever since  voice  commands have become an increasingly important part of how we\n",
      "                                              have jumped on board with their own smart speakers and  voice  control but the alexa voice assistant was the first to\n",
      "                                            their own smart speakers and voice control but the alexa  voice  assistant was the first to champion voice integrations in the\n",
      "                                             but the alexa voice assistant was the first to champion  voice  integrations in the smart home so what are the best\n",
      "                                                 is an excellent entry point into the world of alexa  voice  control see at amazon ring door view cam best video\n",
      "                                              the ecobee app and use alexa google assistant and siri  voice  commands to adjust the temp of your smart thermostat it's\n",
      "                                            to adjust the temp of your smart thermostat it's alexa's  voice  control that really stand out here though since the thermostat\n",
      "                                                 use this smart display to do your bidding via alexa  voice  commands and since it's a smart display it also offers\n",
      "                                                 can arm the system and check its status with simple  voice  commands simplisafe doesn't require a contract but monthly fees start\n",
      "                                                  directly to your phone -- and they work with alexa  voice  commands ask alexa to turn on the living room lights\n",
      "                                             it with ease see at amazon the alexa landscape amazon's  voice  assistant makes it easier to control the devices in your\n",
      "                                    grow in popularity reports that amazon keeps transcripts of your  voice  conversations even after you've deleted the alexa audio recordings led\n",
      "                                            trust have these privacy concerns kept you from buying a  voice  assistant alexa or otherwise? weigh in in the comments section\n",
      "                                                  and apple homekit adherents i tend to think of the  voice  assistants as the starting point for building an off-the-shelf smart\n",
      "                                             of the best smart home products will work with multiple  voice  assistants our list focuses narrowly though on the best product\n",
      "                                       thermostat or the best smart lighting kit regardless of which  voice  platforms it works with we have you covered what this\n",
      "                                              you can find both of them discounted regularly the two  voice  assistants are pretty much at parity right now amazon usually\n",
      "                                       support for more third-party devices but the numbers for both  voice  platforms are in the tens of thousands meaning the difference\n",
      "                                                       of its design and in the way it leverages its  voice  assistant you get the same google assistant features in the\n",
      "                                                  nest hub is the best most affordable marriage of a  voice  assistant and a display interface on the market $7900 at\n",
      "                                                and air conditioning system with an app or with your  voice  a few features help it stand out ecobee set itself\n",
      "                                             the box ecobee is also more agnostic about working with  voice  assistants than its google-owned competitor where nest will work with\n",
      "                                                   to go the local storage route it works with alexa  voice  commands too and has motion detection zones and the ability\n",
      "                                                        too giving you access to all of the the main  voice  assistant options final thoughts there are a lot of other\n",
      "                                               place and you'll be able to control things using siri  voice  assistant commands too so which homekit products should you get?\n",
      "                                             from compatible homekit cameras on your tv with a quick  voice  command into the remote $16900 at walmart august smart lock\n",
      "                                           smart home to apple homekit and centering around siri for  voice  controls read more:the best smart thermostats of 2019 that's why\n",
      "                                      or whatever game you're playing in addition to supporting siri  voice  controls they also work with alexa google and ifttt bonus\n",
      "                                                   any of that same lag when it comes to automations  voice  controls or integrations with third-party services like ifttt and once\n",
      "                                                  ask a question set a reminder and more with simple  voice  commands if that sounds appealing to you it might be\n",
      "                                       view image ben fox rubin/cnet alexa's still the best amazon's  voice  assistant still has more capabilities than google's google assistant and\n",
      "                                             you can only play music from apple's music service with  voice  commands other smart speakers give you a few popular streaming\n",
      "                         new batch launching this summer smart displays combine the always-listening  voice  assistance of a smart speaker with a touchscreen for watching\n",
      "                                                  assistant the nest hub responds to all of the same  voice  commands as the google home minismart speaker the touchscreen is\n",
      "                                                 with the show 5 amazon's alexa will respond to your  voice  commands and you can use the screen to play games\n",
      "                                  and 5ghz bluetooth wi-fi 80211b/g/n/ac 24ghz and 5ghz bluetooth 42  voice  assistant google assistant alexa google assistant google assistant calling and\n",
      "                                             you're taking the speaker away from home wi-fi and want  voice  controls you'll have to let it use your phone i\n",
      "                                             to develop a smart speaker that could have accessed the  voice  recordings of millions of americans the letter comes amid widespread\n",
      "                                                   to go the local storage route it works with alexa  voice  commands too and has motion detection zones and the ability\n",
      "                                                        too giving you access to all of the the main  voice  assistant options final thoughts there are a lot of other\n",
      "                                                  ask a question set a reminder and more with simple  voice  commands if that sounds appealing to you it might be\n",
      "                                       view image ben fox rubin/cnet alexa's still the best amazon's  voice  assistant still has more capabilities than google's google assistant and\n",
      "                                             you can only play music from apple's music service with  voice  commands other smart speakers give you a few popular streaming\n",
      "                                                     to listen in on users through siri to grade the  voice  assistant's accuracy an apple whistleblower had told the guardian that\n",
      "                                             apple said it will suspend the global analysis of those  voice  recordings while it reviews the grading system users will be\n",
      "                                          english both google and apple are suspending some of their  voice  data-review practices after separate reports in the past month revealed\n",
      "                                                                                                      voice  recordings in the eu richard nieva 364 words 1 august\n",
      "                                      networks inc all rights reserved google must stop listening to  voice  recordings from people using its assistant software in the european\n",
      "                                            to amazon's alexa and apple's siri lets people use their  voice  to turn on a light or get the morning's headlines\n",
      "                                         speaker android phone or iphone a small percentage of those  voice  recordings are heard by human workers at google and third\n",
      "                      information and transparently informing those affected about the processing of  voice  commands but also about the frequency and risks of mal-activation\n",
      "                                                  giants have been under fire for how they use their  voice  data amazon has said an extremely small number of alexa\n",
      "                                                                                                      voice  remotes andrew gebhart 387 words 31 july 2019 cnet newscom\n",
      "                                                  show you your pictures the weather and more with a  voice  command dish is rolling out a software update starting wednesday\n",
      "                                   starting wednesday that will add google assistant to its existing  voice  remotes the media company is also launching a google-branded voice\n",
      "                                  voice remotes the media company is also launching a google-branded  voice  remote push a button to talk to the remote and\n",
      "                                                 if you have one of those receivers and a compatible  voice  remote from dish you'll get the upgrade for free through\n",
      "                                             free through an over-the-air update if you don't have a  voice  remote you can head to the dish site to see\n",
      "                                           mini smart speaker you can currently control your tv with  voice  commands dish and google launched that integration last year this\n",
      "                                               about the weather check sports scores and more with a  voice  command as you'd expect you'll also be able to control\n",
      "                                                    and i think about google home if i could combine  voice  with a gesture maybe i could invoke a command without\n",
      "                                gestures? who knows car dashboards i'm already uncertain about using  voice  when i'm driving but it's better than operating a touchscreen\n",
      "                                                       that happens even a few times i'll go back to  voice  or touch or whatever else works better what i can\n",
      "                                                  and apple homekit adherents i tend to think of the  voice  assistants as the starting point for building an off-the-shelf smart\n",
      "                                             of the best smart home products will work with multiple  voice  assistants our list focuses narrowly though on the best product\n",
      "                                       thermostat or the best smart lighting kit regardless of which  voice  platforms it works with we have you covered what this\n",
      "                                              you can find both of them discounted regularly the two  voice  assistants are pretty much at parity right now amazon usually\n",
      "                                       support for more third-party devices but the numbers for both  voice  platforms are in the tens of thousands meaning the difference\n",
      "                                                       of its design and in the way it leverages its  voice  assistant you get the same google assistant features in the\n",
      "                                                  nest hub is the best most affordable marriage of a  voice  assistant and a display interface on the market $7900 at\n",
      "                                                and air conditioning system with an app or with your  voice  a few features help it stand out ecobee set itself\n",
      "                                             the box ecobee is also more agnostic about working with  voice  assistants than its google-owned competitor where nest will work with\n",
      "                                 control compatible lights thermostats locks and more with just your  voice  starting friday morning google is partnering with the christopher and\n",
      "                                                   mini is one of our favorite smart speakers with a  voice  command you can check your calendar play music search the\n",
      "                                                   echo dot aimed at kids the company with its alexa  voice  assistant dominates the smart speaker market in the us followed\n",
      "                                                  rest will be split between more than a dozen other  voice  os platforms including apple's siri alibaba's ali genie baidu's duer\n",
      "                                                nest hub formerly the google home hub it responds to  voice  commands like a smart speaker and it uses its small\n",
      "                                     our favorite diy home security systems and it already supported  voice  controls via google assistant now abode tells cnet that it's\n",
      "                                      more: the best google assistant gadgets of 2019 abode supports  voice  controls via alexa as well -- a company spokesperson tells\n",
      "                               our integrations and partnerships abode says the new google assistant  voice  controls are live now you can click here for a\n",
      "                                                                                                      voice  assistant launches for everyone venturebeat 14:00 gmt 23 july 2019\n",
      "                                     company announced today this morning marks the broad rollout of  voice  mode pandora’s bespoke voice assistant to document wc48310020190723ef7n000m9  \n",
      "                                     morning marks the broad rollout of voice mode pandora’s bespoke  voice  assistant to document wc48310020190723ef7n000m9      \n",
      "                                                smart speaker; and both the fire tv stick with alexa  voice  remote streaming device and fire tv stick 4k with alexa\n",
      "                                             remote streaming device and fire tv stick 4k with alexa  voice  remote that shouldn’t surprise consumers as amazon traditionally deeply discounts\n",
      "                                               so the $25 price is still something to celebrate with  voice  commands you can control your smart home check the weather\n",
      "                                 tyler lizenby/cnet you can control amazon's simple microwave with a  voice  command if you have a smart speaker like the amazon\n",
      "                                            $7000 at amazon expired: amazon fire tv stick with alexa  voice  remote: $15 save $25 click to view image sarah tew/cnet\n",
      "                                                $1500 at amazon expired: fire tv stick 4k with alexa  voice  remote: $25 save $25 click to view image sarah tew/cnet\n",
      "                                              pretty appealing at this $60 sale price in addition to  voice  controls through google assistant you can customize your alarm to\n",
      "                                 tyler lizenby/cnet you can control amazon's simple microwave with a  voice  command if you have a smart speaker like the amazon\n",
      "                                                 $70 $7000 at amazon amazon fire tv stick with alexa  voice  remote: $15 save $25 click to view image sarah tew/cnet\n",
      "                                                     day $1500 at amazon fire tv stick 4k with alexa  voice  remote: $25 save $25 click to view image sarah tew/cnet\n",
      "                                                   items so far include the fire tv stick with alexa  voice  remote and the echo dot the alexa-enabled smart speaker the\n",
      "                                            click to view image sarah tew/cnet part 4k streamer part  voice  assistant part universal remote the fire tv cube is a\n",
      "                                     this being the entry-level stick it comes with an alexa-powered  voice  remote * the new kindle paperwhite for $85: read without\n",
      "                                               the benefits of amazon's fire tv interface but also a  voice  remote with alexa baked in see at amazon ninja foodi\n",
      "                                              pretty appealing at this $60 sale price in addition to  voice  controls through google assistant you can customize your alarm to\n",
      "                                           deals -- some of which might be exclusively available via  voice  purchase the amazon mobile apps meanwhile will let you grab\n",
      "                                            click to view image sarah tew/cnet part 4k streamer part  voice  assistant part universal remote the fire tv cube is a\n",
      "                                                 $70 $7000 at amazon amazon fire tv stick with alexa  voice  remote: $15 save $25 click to view image sarah tew/cnet\n",
      "                                                     day $1500 at amazon fire tv stick 4k with alexa  voice  remote: $25 save $25 click to view image sarah tew/cnet\n",
      "                                     this being the entry-level stick it comes with an alexa-powered  voice  remote * the new kindle paperwhite for $85: read without\n",
      "                                              pretty appealing at this $60 sale price in addition to  voice  controls through google assistant you can customize your alarm to\n",
      "                                           deals -- some of which might be exclusively available via  voice  purchase the amazon mobile apps meanwhile will let you grab\n",
      "                                                  tablet now just $2999 and fire tv stick with alexa  voice  remote now just $1499 save $50 on echo now just\n",
      "                                                       save $25 on both the fire tv stick with alexa  voice  remote now just $1499 and the fire tv stick 4k\n",
      "                                                      just $1499 and the fire tv stick 4k with alexa  voice  remote now just $2499 pcmag says that this “powerful little\n",
      "                                              many products on our list that will work with multiple  voice  assistants if you've already chosen a side we've broken out\n",
      "                                                out specific lists of products for each of the major  voice  services you'll find those here: * the best amazon alexa\n",
      "                                       thermostat or the best smart lighting kit regardless of which  voice  platforms it works with we have you covered what this\n",
      "                                                       from now through the end of prime day the two  voice  assistants are pretty much at parity right now amazon usually\n",
      "                                       support for more third-party devices but the numbers for both  voice  platforms are in the tens of thousands meaning the difference\n",
      "                                                       of its design and in the way it leverages its  voice  assistant you get the same google assistant features in the\n",
      "                                                  nest hub is the best most affordable marriage of a  voice  assistant and a display interface on the market $7900 at\n",
      "                                                and air conditioning system with an app or with your  voice  a few features help it stand out ecobee set itself\n",
      "                                             the box ecobee is also more agnostic about working with  voice  assistants than its google-owned competitor where nest will work with\n",
      "                                         vacuum to run from anywhere using alexa or google assistant  voice  commands the 3-stage cleaning system and dual multi-surface brushes work\n",
      "                                                    the weather lock the door and more with a simple  voice  command the voice-enabled digital helper from the eponymous search giant\n",
      "                                                 uses google assistant to respond to all of the same  voice  commands as a google home smart speaker the touchscreen will\n",
      "                                           if you have family members that struggle to remember what  voice  commands work now they can just tap the nest hub\n",
      "                                 small smart speaker offers all of the same google assistant-enabled  voice  commands as the rest control compatible gadgets search the web\n",
      "                                               to kick off your smart home without any sacrifices in  voice  capabilities the mini also makes for a good secondary device\n",
      "                                chris monroe/cnet changing the temperature of your thermostat with a  voice  command is a cool trick that never really gets old\n",
      "                                                      $250 nest model it responds to all of the same  voice  commands and the intuitive controls make manual scheduling easy see\n",
      "                                            it lets you control an old-fashioned floor fan with your  voice  for a reasonable price see at amazon best smart cam:\n",
      "                              google assistant and simplisafe's devices will respond quickly to your  voice  commands again nest has an option here that poses a\n",
      "                                           connect module lets you control it remotely and with your  voice  so you can tell google assistant to lock your door\n",
      "                                           deals -- some of which might be exclusively available via  voice  purchase the amazon mobile apps meanwhile will let you grab\n",
      "                                               place and you'll be able to control things using siri  voice  commands too so which homekit gadgets should you get? there's\n",
      "                                             from compatible homekit cameras on your tv with a quick  voice  command into the remote $16900 at walmart august smart lock\n",
      "                                           smart home to apple homekit and centering around siri for  voice  controls read more:the best smart thermostats of 2019 that's why\n",
      "                                      or whatever game you're playing in addition to supporting siri  voice  controls they also work with alexa google and ifttt bonus\n",
      "                                                   any of that same lag when it comes to automations  voice  controls or integrations with third-party services like ifttt and once\n",
      "                                            do i treat a migraine?'' when british users ask amazon's  voice  assistant system for medical advice it can respond as of\n",
      "                                   alexa on wednesday adding that customers could also control their  voice  history by reviewing or deleting voice recordings professor helen stokes-lampard\n",
      "                                     could also control their voice history by reviewing or deleting  voice  recordings professor helen stokes-lampard chair of the royal college of\n",
      "                                      google assistant again outpaces amazon alexa and apple siri in  voice  results ben fox rubin 526 words 9 july 2019 cnet\n",
      "                                     reserved bret kinsella's research team wanted to find out which  voice  assistant was the best for asking about specific brands like\n",
      "                                   at voicebotai a voice-computing and ai research outfit asked four  voice  assistants hundreds of questions about brands ranging from broader questions\n",
      "                                         studies that showed google assistant as the clear leader in  voice  responses helped by google's decades of work sorting and organizing\n",
      "                                           studies shows that google may remain the top contender in  voice  results for years to come despite amazon's work to hire\n",
      "                                                  of alexa engineers and its huge push to expand its  voice  assistant's capabilities while alexa still dominates the us smart speaker\n",
      "                                            of thousands of dollars to create and maintain their own  voice  apps google and amazon don't use them to answer these\n",
      "                                       brands meanwhile have been focusing so much on more intricate  voice  apps like the domino's pizza delivery app that they've missed\n",
      "                                          added but can't answer basic questions both of the leading  voice  assistants may be avoiding brands' apps for these questions to\n",
      "                                           deals -- some of which might be exclusively available via  voice  purchase the amazon mobile apps meanwhile will let you grab\n",
      "                                                    a reminder ask a question and more with a simple  voice  command if that sounds appealing to you it might be\n",
      "                                    of the staying power of populism begin videotape 15:10:03 giokos  voice  over call it the battle of the billboards greek prime\n",
      "                                           people will make the final decision end video clip giokos  voice  over: now that final decision is near as greeks head\n",
      "                                   implement very much needed economic reforms end video clip giokos  voice  over: tsipras's fall from grace is a stunning reversal from\n",
      "                                     you can stimulate some serious investment end video clip giokos  voice  over: a stable business friendly government will please investors greek\n",
      "                                              particularly well in some parts of the uk media foster  voice  over: so far we've had limited sightings of baby archie\n",
      "                                                and it's such a happy occasion end video clip foster  voice  over: the couple have organized a small private ceremony at\n",
      "                                     there and will release pictures after the event 15:25:03 foster  voice  over: this lack of media access has sparked criticism among\n",
      "                                             are the public getting in return? end video clip foster  voice  over: but there's been a counter backlash from the army\n",
      "                                            the royals asking for some privacy end video clip foster  voice  over: professor goldburn maynard who describes himself as an ally\n",
      "                                           deals -- some of which might be exclusively available via  voice  purchase the amazon mobile apps meanwhile will let you grab\n",
      "                                 germany canada australia france and the netherlands to switch their  voice  assistant from amazon's alexa to google's assistant the feature works\n",
      "                                                                                                      voice  platform is now on 400 million devices venturebeat 05:20 gmt\n",
      "                                                                                                      voice  assistant is open for business oscar gonzalez 245 words 1\n",
      "                                     english c cnet networks inc all rights reserved samsung's bixby  voice  assistant is able to perform a lot of functions for\n",
      "                                 will provide certain functions with different apps via a particular  voice  command click to view image to access the marketplace samsung\n",
      "                                               used to create products in this year's video mr ive's  voice  was absent on thursday mr ive convened the user interface\n",
      "                                   about the intelligence gathered on their business from using that  voice  channel i have some customers really really scared about that\n",
      "                               home devices and getting important information quickly their focus on  voice  commands and simple graphics for things like timers and quick\n",
      "                                    two systems are remarkably different especially when it comes to  voice  control android things began as a simpler version of android\n",
      "                                 around your voice: they're built to be navigated predominately with  voice  commands instead of taps or swipes making them a theoretically\n",
      "                                                 and you'll get a recipe you can swipe through using  voice  commands without ever putting messy fingers or wet hands on\n",
      "                                                  to pull up the recipe which won't be navigable via  voice  it's not nearly as easy as the voice-first smart display\n",
      "                                           thermostats for quick easy access of course with a simple  voice  command you can also adjust the thermostat or turn off\n",
      "                                            it i see the advantages as tablets integrate better with  voice  assistants and large appliances get their own built-in displays i'm\n",
      "                                        alongside google it's a bedside alarm clock that responds to  voice  commands through google assistant it has a simple touchscreen so\n",
      "                                  while still letting you issue any of google assistant's recognized  voice  commands for certain families that more limited functionality will be\n",
      "                                                   anyway sunrise alarms you can set an alarm with a  voice  command to the google nest hub so you can use\n",
      "                                            gadgets yes they both have google assistant built in for  voice  control and the screen on the nest hub does more\n",
      "                                               with alexa baked in for example that could respond to  voice  queries without having to launch a mobile app its echo\n",
      "                                                     a mobile app its echo auto a gadget that brings  voice  services to a car and is currently available only via\n",
      "                               gives amazon's two silicon valley rivals significantly more data from  voice  commands to train their own artificial intelligence assistants despite potential\n",
      "                                                  on the iphone or saying hey siri users could issue  voice  commands to do things such as check the weather set\n",
      "                                                  the web apple was the first to introduce a digital  voice  assistant but it was slow to capitalize on that lead\n",
      "                                 reserved alexa google assistant and siri aren't the same smart-home  voice  assistants they were at launch or even a few months\n",
      "                                             then have to say alexa again before requesting that the  voice  assistant set the hallway thermostat to 68 degrees further reading\n",
      "                                                  devices unlike alexa which is both the name of the  voice  assistant and the default wake word for alexa-enabled speakers google\n",
      "                                               your google nest hub smart display to make dinner the  voice  assistant is patient as you go through the steps: you\n",
      "                                    follow-up to the duplex software that would put a human-sounding  voice  ai on the other end of the phone line to\n",
      "                                            mac: the homepod which you can control with apple's siri  voice  assistant through siri voice commands and via the home app\n",
      "                                      you can control with apple's siri voice assistant through siri  voice  commands and via the home app in ios you can\n",
      "                              tunein and radiocom alexa and google assistant already have multi-user  voice  recognition meaning they can distinguish between my voice and my\n",
      "                           have multi-user voice recognition meaning they can distinguish between my  voice  and my co-workers' some of the time at least so\n",
      "                                                  this year click to view image the current state of  voice  assistants amazon's efforts to enable multiple requests without requiring the\n",
      "                                                    soon skip even apple is stepping up with its new  voice  recognition feature and neural text to speech software designed to\n",
      "                                               so human that we won't be able to distinguish between  voice  assistants and people -- and i'm definitely not alone it's\n",
      "                                               not alone it's an interesting time for the smart home  voice  control with three major players competing for supremacy a 2018\n",
      "                                       supremacy a 2018 study said google assistant was the smartest  voice  assistant even though echo devices sold better but that alexa\n",
      "                                            may be moving into a more incremental phase of improving  voice  assistants rather than the mad dash to third-party announcements we\n",
      "                                                   useful click to view image do you have a favorite  voice  assistant or smart speaker? weigh in below in the comments\n",
      "                                       that also feature either the amazon alexa or google assistant  voice  services the amazon echo show was the first example in\n",
      "                                                       variation on the core theme all of them use a  voice  assistant and a touchscreen in combination to answer questions play\n",
      "                                               make video calls you need to use the eponymous portal  voice  assistant all of the processing for voice commands issued to\n",
      "                                      the eponymous portal voice assistant all of the processing for  voice  commands issued to portal happens on the device itself not\n",
      "                                       touchscreen and no camera you control it via google assistant  voice  commands or with the touchscreen both of which are the\n",
      "                                              lg wk9 smart display also uses google assistant as its  voice  platform but it doesn't differentiate itself enough from its competition\n",
      "                                                 the smart home siri was one of the early mainstream  voice  assistants and it hasn't kept up with its competition a\n",
      "                                    robotic-sounding speech on stage at wwdc this week and multiuser  voice  recognition for homepod even without those updates siri is a\n",
      "                                   homepod even without those updates siri is a relatively competent  voice  assistant reliably executing most basic commands like playing music making\n",
      "                                                                                                      voice  and new airpods and homepod features venturebeat 18:25 gmt 3\n",
      "                                        apple’s ai assistant siri is getting a more natural sounding  voice  help with multi-step custom voice commands in the shortcuts app\n",
      "                                   getting a more natural sounding voice help with multi-step custom  voice  commands in the shortcuts app quick sms responses with airpods\n",
      "                                                  pretty basic smart led bulb one you can control by  voice  or phone app here's cnet's review of a c by\n",
      "                                      products or those compatible with apple's homekit and the siri  voice  assistant and there's a question of privacy: renters home buyers\n",
      "                                           they will not however allow hotels to hear guests' actual  voice  recordings all of these partnerships are consistent with amazon's larger\n",
      "                                            apple's homepod -- a smart speaker that responds to your  voice  commands akin to the amazon echo and google home apple\n",
      "                                                    gave rise to the google assistant as well as the  voice  assistant in the echo amazon's alexa document cnewsn0020190601ef6100001  \n",
      "                                           they will not however allow hotels to hear guests' actual  voice  recordings all of these partnerships are consistent with amazon's larger\n",
      "                                         has now addressed a major privacy concerned about its alexa  voice  recognition devices there have been growing worries that alexa and\n",
      "                                                amazon to use your data and your recordings but this  voice  command update does make it easier if of course users\n",
      "                                          a stumbling block we'll explain and then later putting the  voice  to the face social media reacts to hearing special counsel\n",
      "                                                    first time in two years why some say hearing his  voice  was just as important as hearing his message? back with\n",
      "                                            years of self-imposed silence we finally got to hear the  voice  of special counsel robert mueller cnn's jeanne moos reports on\n",
      "                                           know and no comment unidentified male: would you know his  voice  if you ever heard it? have you ever heard him\n",
      "                                                  trail moos: or what if robert mueller has a higher  voice  than jared kushner whose own voice was long a target\n",
      "                                             mueller has a higher voice than jared kushner whose own  voice  was long a target of speculation john oliver host hbo:\n",
      "                                           target of speculation john oliver host hbo: what does his  voice  sound like? moos: jared found his voice jared kushner senior\n",
      "                                               what does his voice sound like? moos: jared found his  voice  jared kushner senior advisor to the president of the united\n",
      "                                                moos: am i the only one who thought robert mueller's  voice  would sound like ian mckellen? did anybody else expect robert\n",
      "                                         like ian mckellen? did anybody else expect robert de niro's  voice  to come out of mueller's mouth? robert de niro cast\n",
      "                                    so much about someone who wouldn't talk unidentified female: her  voice  has heard unidentified female: yes unidentified female: we haven't heard\n",
      "                            heard unidentified female: yes unidentified female: we haven't heard her  voice  moos: but even though mueller talked he wouldn't answer some\n",
      "                                      some people are never satisfied i don't like hearing mueller's  voice  i like the mystery unidentified male: the greatest oz has\n",
      "                                                   consumers siri on homepod isn't at the top of the  voice  assistant podium either as she had trouble competing with google\n",
      "                                          of the rumors out there giving homepod fans hope multiuser  voice  recognition this is something both google and amazon already include\n",
      "                                                    be wise to quickly adopt right now there isn't a  voice  training option for homepod users that means anyone can say\n",
      "                                         plans and on that list was multiuser homepod support adding  voice  training creates a multiuser environment where siri can respond to\n",
      "                                               given that siri has been able to identify its owner's  voice  since ios 9 locking out other voices that don't match\n",
      "                                                not to mention a layer of security for purchases via  voice  ring integration ring integration for homekit is another piece missing\n",
      "                                          that they can handle calling music with good sound quality  voice  commands and many other tasks as well as their larger\n",
      "                                          mount the retail giant said wednesday it tweaked its alexa  voice  software to give consumers the ability to use voice commands\n",
      "                                           alexa voice software to give consumers the ability to use  voice  commands to delete recordings of what they've said throughout the\n",
      "                              coalition of 19 consumer groups accused amazon of illegally collecting  voice  recordings and other identifying information on users under 13 with\n",
      "                                                 what i just said amazon said that it introduced the  voice  commands to allow customers easier control over their privacy document\n",
      "                                    delete everything i said today for alexa-enabled gadgets to wipe  voice  recordings made from midnight that day until that moment in\n",
      "                                                     delete what i just said and it will expunge the  voice  recording of your most recent request the commands are part\n",
      "                            contribute to gender bias? the predominantly feminized roster of digital  voice  assistants — like amazon’s amzn us alexa and apple’s aapl\n",
      "                                   and cultural organization unesco says “because the speech of most  voice  assistants is female it sends a signal that women are\n",
      "                                                            at the touch of a button or with a blunt  voice  command like ‘hey’ or ‘ok’” the report’s authors wrote “the\n",
      "                                                 a 40% increase over the previous year the number of  voice  assistants in use is expected to triple to 8 billion\n",
      "                                        some of these companies have introduced a greater variety of  voice  offerings in recent years google goog us now offers 10\n",
      "                                             male- and female-sounding voices in the us plus a cameo  voice  from john legend and apple rolled out a male voice\n",
      "                                                  voice from john legend and apple rolled out a male  voice  option for siri in 2013 still one particular concern is\n",
      "                       harassment responded with jokes and “dumb mistakes” that these still-fallible  voice  assistants sometimes make the un report said run the risk\n",
      "                                                 not too late to right the ship they concluded given  voice  assistants’ relative newness to consumers “there is nothing predestined about\n",
      "                                               tvs in north america will be updated to support alexa  voice  commands europe and asia will have to wait a little\n"
     ]
    }
   ],
   "source": [
    "print('Number of kwic for word \"voice\" is:', len(kwic_voice))\n",
    "print_kwic(kwic_voice)"
   ]
  },
  {
   "cell_type": "code",
   "execution_count": 15,
   "metadata": {},
   "outputs": [
    {
     "name": "stdout",
     "output_type": "stream",
     "text": [
      "Number of kwic for word \"privacy\" is: 54\n",
      "                                  popping up throughout people's homes and lives the practice raises  privacy  concerns for smart-speaker users in particular who might have known\n",
      "                                                   these systems and what risks there may be to your  privacy  if you think about it why would you want a\n",
      "                                    professor at the university of michigan who has studied people's  privacy  perceptions when it comes to smart speakers as a result\n",
      "                                           about them he often hears that rather than using built-in  privacy  controls such as a physical mute button that many smart\n",
      "                                                    first place and they could do more to talk about  privacy  risks users face as well as how they're protecting users'\n",
      "                                         blog post that point out the companies' commitments to user  privacy  cassell and other experts suggested that companies that want to\n",
      "                                                   how long your commute to the office will take but  privacy  has become an increasing concern as smart speakers and displays\n",
      "                                        deleted the alexa audio recordings led to concerns over user  privacy  sen chris coons a democrat from delaware wrote a letter\n",
      "                                                 smart display the echo show 5 comes with a built-in  privacy  screen unlike previous echo show devices amazon isn't alone facebook\n",
      "                                          google and other major tech companies have faced their own  privacy  issues prompting questions about data usage fortunately amazon and others\n",
      "                                                      to be working to win back our trust have these  privacy  concerns kept you from buying a voice assistant alexa or\n",
      "                                                video camera on the hub itself getting ahead of some  privacy  concerns and likely prompting amazon to include a manual video\n",
      "                                                           way to do it at least until the next data  privacy  scandal unlike many commercial systems which pull from existing databases\n",
      "                                                        camera but that might be a bonus if you have  privacy  concerns and want to put it in your bedroom the\n",
      "                                                next to your bed and includes a physical shutter for  privacy  in addition to the usual tricks amazon rolled out a\n",
      "                                                      and a physical shutter to cover it if you want  privacy  note that the google nest hub max has a similar\n",
      "                                                      yes built-in camera no yes 1mp yes 5mp yes 5mp  privacy  shutter n/a yes yes yes microphones 2-mic array 2-mic array\n",
      "                                         the rest and of course facebook has recently faced numerous  privacy  scandals so putting one of its cameras in your home\n",
      "                                         they are accusing the company of failing to take americans’  privacy  into account on the project document wc61922020190807ef870000d   \n",
      "                                                                                                      privacy  concerns apple will stop using contractors to analyze siri hannah\n",
      "                               committed to delivering a great siri experience while protecting user  privacy  cat franklin an apple spokeswoman said in an email to\n",
      "                                                                                                      privacy  backlash but transparency is the real issue venturebeat 15:25 gmt\n",
      "                            will last three months while germany's data watchdog agency investigates  privacy  concerns the search giant's assistant service similar to amazon's alexa\n",
      "                                                video camera on the hub itself getting ahead of some  privacy  concerns and likely prompting amazon to include a manual video\n",
      "                                                           way to do it at least until the next data  privacy  scandal unlike many commercial systems which pull from existing databases\n",
      "                                   facebook portal for $80: surprised? don't be there are legitimate  privacy  concerns with just about every smart display and smart speaker\n",
      "                                                video camera on the hub itself getting ahead of some  privacy  concerns and likely prompting amazon to include a manual video\n",
      "                                                           way to do it at least until the next data  privacy  scandal unlike many commercial systems which pull from existing databases\n",
      "                                     as a world first has prompted immediate questions about medical  privacy  and about the propriety of a state-run service forming a\n",
      "                                   targeted based on health concerns'' big brother watch a nonprofit  privacy  campaigning organization said on twitter on wednesday ''it's a data\n",
      "                                    parties ''customer trust is of utmost importance and amazon take  privacy  seriously'' said gemma cook a spokeswoman for alexa on wednesday\n",
      "                                             ms coldicutt said that she was less concerned about the  privacy  implications of alexa's offering nhs advice than ''the comparative advantage\n",
      "                                         activities also called matt hancock which was found to have  privacy  problems of its own ''he quite often mistakes things that\n",
      "                                                    briefly give up social media to take a stand for  privacy  he called for a two day strike ending today i\n",
      "                                           know getting people of social media? we are talking about  privacy  concerns we're talking about a data breaches we've seen issues\n",
      "                                            funding or public funding and the royals asking for some  privacy  end video clip foster voice over: professor goldburn maynard who\n",
      "                                           why anyone would spend 30 seconds in thinking they're not  privacy  and security one of the biggest initiatives by cook has\n",
      "                                        the biggest initiatives by cook has been apple's emphasis on  privacy  and security the company makes money from selling hardware and\n",
      "                                      advertising cook has vowed time and again to maintain customer  privacy  for features such as the company's mobile payments service apple\n",
      "                                     have faced scrutiny over their data collection practices we see  privacy  as a fundamental human right cook told cbs news and\n",
      "                                                      a company who is on a mission to protect their  privacy  not just from apple but from others as well creative\n",
      "                                                        show 5 the echo show 5 addresses some of the  privacy  concerns raised by devices like the spot with a physical\n",
      "                                           to view image facebook portal and portal plus speaking of  privacy  it's hard to imagine a more trust-challenged company than facebook\n",
      "                                             company has earned such a bad reputation with regard to  privacy  because the quality of video calls on both portal devices\n",
      "                                          pretext of recycling well amazon has now addressed a major  privacy  concerned about its alexa voice recognition devices there have been\n",
      "                                     to delete recordings of their voices as consumer and regulatory  privacy  concerns regarding artificial-intelligence assistants mount the retail giant said wednesday\n",
      "                                     the voice commands to allow customers easier control over their  privacy  document wpcom00020190529ef5t00gih        \n",
      "                                              request the commands are part of a broader push toward  privacy  the company also announced a $90 echo show 5 smart-screen\n",
      "                                           dot kids edition is in violation of the children's online  privacy  protection act they alleged it doesn't follow the law's parental-consent\n",
      "                                              such as google and apple which have touted the various  privacy  features in their own competing devices the camera cover on\n",
      "                                                 to do things such as delete spoken commands and see  privacy  settings it is grouping alexa privacy settings online into an\n",
      "                                       spoken commands and see privacy settings it is grouping alexa  privacy  settings online into an alexa privacy hub privacy controls will\n",
      "                                          it is grouping alexa privacy settings online into an alexa  privacy  hub privacy controls will also remain available within amazon's alexa\n",
      "                                    grouping alexa privacy settings online into an alexa privacy hub  privacy  controls will also remain available within amazon's alexa apps by\n"
     ]
    }
   ],
   "source": [
    "print('Number of kwic for word \"privacy\" is:', len(kwic_priv))\n",
    "print_kwic(kwic_priv)"
   ]
  },
  {
   "cell_type": "markdown",
   "metadata": {},
   "source": [
    "________\n",
    "## Now pulling most frequent Adjectives near (10 words before & 10 words after) the tokens  'voice', 'surveillance', and 'privacy'\n",
    "### NLTK Part-of-Speech Tags: https://pythonprogramming.net/natural-language-toolkit-nltk-part-speech-tagging/\n",
    "    Note: the token **nest** appears as an adjective when really this is a proper pronoun referring to Google Nest... "
   ]
  },
  {
   "cell_type": "code",
   "execution_count": 29,
   "metadata": {},
   "outputs": [
    {
     "data": {
      "text/plain": [
       "[(('best', 'JJS'), 21),\n",
       " (('nest', 'JJS'), 14),\n",
       " (('same', 'JJ'), 10),\n",
       " (('other', 'JJ'), 9),\n",
       " (('most', 'JJS'), 7),\n",
       " (('compatible', 'JJ'), 7),\n",
       " (('own', 'JJ'), 7),\n",
       " (('few', 'JJ'), 7),\n",
       " (('unidentified', 'JJ'), 7),\n",
       " (('much', 'JJ'), 6),\n",
       " (('able', 'JJ'), 6),\n",
       " (('new', 'JJ'), 6),\n",
       " (('available', 'JJ'), 6),\n",
       " (('small', 'JJ'), 5),\n",
       " (('final', 'JJ'), 4),\n",
       " (('actual', 'JJ'), 3),\n",
       " (('important', 'JJ'), 3),\n",
       " (('easier', 'JJR'), 3),\n",
       " (('affordable', 'JJ'), 3),\n",
       " (('agnostic', 'JJ'), 3),\n",
       " (('google-owned', 'JJ'), 3),\n",
       " (('alexa-enabled', 'JJ'), 3),\n",
       " (('major', 'JJ'), 3),\n",
       " (('eponymous', 'JJ'), 3),\n",
       " (('easy', 'JJ'), 3),\n",
       " (('basic', 'JJ'), 3),\n",
       " (('larger', 'JJR'), 3),\n",
       " (('least', 'JJS'), 2),\n",
       " (('local', 'JJ'), 2),\n",
       " (('main', 'JJ'), 2)]"
      ]
     },
     "execution_count": 29,
     "metadata": {},
     "output_type": "execute_result"
    }
   ],
   "source": [
    "Left_of_Voice = []\n",
    "Right_of_Voice = []\n",
    "LR_of_Voice = []\n",
    "for kwic in kwic_voice:\n",
    "    Left_of_Voice.append(kwic[0])\n",
    "    Right_of_Voice.append(kwic[2])\n",
    "    LR_of_Voice.append(kwic[0] + kwic[2])\n",
    "    \n",
    "nltk_LR_of_voice = []\n",
    "for line in LR_of_Voice:\n",
    "    for words in line:\n",
    "        word = [words]\n",
    "        if len(words) > 0:\n",
    "            tagged = nltk.pos_tag(word)\n",
    "            nltk_LR_of_voice += tagged\n",
    "            \n",
    "adjective_LR_voice = Counter()\n",
    "for tagged_word in nltk_LR_of_voice:\n",
    "    if tagged_word[1].startswith('J'):\n",
    "        #print(tagged_word)\n",
    "        adjective_LR_voice.update([tagged_word])\n",
    "adjective_LR_voice.most_common(30)"
   ]
  },
  {
   "cell_type": "code",
   "execution_count": 30,
   "metadata": {},
   "outputs": [
    {
     "data": {
      "text/plain": [
       "[(('such', 'JJ'), 5),\n",
       " (('physical', 'JJ'), 4),\n",
       " (('many', 'JJ'), 4),\n",
       " (('next', 'JJ'), 4),\n",
       " (('own', 'JJ'), 3),\n",
       " (('likely', 'JJ'), 3),\n",
       " (('manual', 'JJ'), 3),\n",
       " (('least', 'JJS'), 3),\n",
       " (('commercial', 'JJ'), 3),\n",
       " (('other', 'JJ'), 2),\n",
       " (('major', 'JJ'), 2),\n",
       " (('similar', 'JJ'), 2),\n",
       " (('2-mic', 'JJ'), 2),\n",
       " (('concerned', 'JJ'), 2),\n",
       " (('social', 'JJ'), 2),\n",
       " (('biggest', 'JJS'), 2),\n",
       " (('available', 'JJ'), 2),\n",
       " (('particular', 'JJ'), 1),\n",
       " (('previous', 'JJ'), 1),\n",
       " (('usual', 'JJ'), 1),\n",
       " (('nest', 'JJS'), 1),\n",
       " (('numerous', 'JJ'), 1),\n",
       " (('great', 'JJ'), 1),\n",
       " (('real', 'JJ'), 1),\n",
       " (('last', 'JJ'), 1),\n",
       " (('medical', 'JJ'), 1),\n",
       " (('big', 'JJ'), 1),\n",
       " (('fundamental', 'JJ'), 1),\n",
       " (('creative', 'JJ'), 1),\n",
       " (('hard', 'JJ'), 1)]"
      ]
     },
     "execution_count": 30,
     "metadata": {},
     "output_type": "execute_result"
    }
   ],
   "source": [
    "Left_of_Priv = []\n",
    "Right_of_Priv = []\n",
    "LR_of_Priv = []\n",
    "for kwic in kwic_priv:\n",
    "    Left_of_Priv.append(kwic[0])\n",
    "    Right_of_Priv.append(kwic[2])\n",
    "    LR_of_Priv.append(kwic[0] + kwic[2])\n",
    "\n",
    "nltk_LR_of_priv = []\n",
    "for line in LR_of_Priv:\n",
    "    for words in line:\n",
    "        word = [words]\n",
    "        if len(words) > 0:\n",
    "            tagged = nltk.pos_tag(word)\n",
    "            nltk_LR_of_priv += tagged\n",
    "            \n",
    "adjective_LR_priv = Counter()\n",
    "for tagged_word in nltk_LR_of_priv:\n",
    "    if tagged_word[1].startswith('J'):\n",
    "        #print(tagged_word)\n",
    "        adjective_LR_priv.update([tagged_word])\n",
    "adjective_LR_priv.most_common(30)"
   ]
  },
  {
   "cell_type": "code",
   "execution_count": 18,
   "metadata": {},
   "outputs": [
    {
     "data": {
      "text/plain": [
       "[]"
      ]
     },
     "execution_count": 18,
     "metadata": {},
     "output_type": "execute_result"
    }
   ],
   "source": [
    "Left_of_Surv = []\n",
    "Right_of_Surv = []\n",
    "LR_of_Surv = []\n",
    "for kwic in kwic_surv:\n",
    "    Left_of_Surv.append(kwic[0])\n",
    "    Right_of_Surv.append(kwic[2])\n",
    "    LR_of_Surv.append(kwic[0] + kwic[2])\n",
    "    \n",
    "nltk_LR_of_surv = []\n",
    "for line in LR_of_Surv:\n",
    "    for words in line:\n",
    "        word = [words]\n",
    "        if len(words) > 0:\n",
    "            tagged = nltk.pos_tag(word)\n",
    "            nltk_LR_of_surv += tagged\n",
    "            \n",
    "adjective_LR_surv = Counter()\n",
    "for tagged_word in nltk_LR_of_surv:\n",
    "    if tagged_word[1].startswith('J'):\n",
    "        #print(tagged_word)\n",
    "        adjective_LR_surv.update([tagged_word])\n",
    "# Results are empty since there is only 1 instance of Surveillance and I guess none of the words are listed as adjectives\n",
    "adjective_LR_surv.most_common(15)"
   ]
  },
  {
   "cell_type": "code",
   "execution_count": 19,
   "metadata": {},
   "outputs": [
    {
     "data": {
      "text/plain": [
       "[('see', 'VB'),\n",
       " ('in', 'IN'),\n",
       " ('the', 'DT'),\n",
       " ('future', 'NN'),\n",
       " ('read:', 'NN'),\n",
       " (\"amazon's\", 'NN'),\n",
       " ('helping', 'VBG'),\n",
       " ('police', 'NNS'),\n",
       " ('build', 'NN'),\n",
       " ('a', 'DT'),\n",
       " ('network', 'NN'),\n",
       " ('with', 'IN'),\n",
       " ('ring', 'NN'),\n",
       " ('doorbells', 'NNS'),\n",
       " ('alexa', 'NN'),\n",
       " ('amazon', 'NN'),\n",
       " ('has', 'VBZ'),\n",
       " ('been', 'VBN'),\n",
       " ('a', 'DT'),\n",
       " ('leader', 'NN')]"
      ]
     },
     "execution_count": 19,
     "metadata": {},
     "output_type": "execute_result"
    }
   ],
   "source": [
    "# Nothing here is listed as Adjective around surveillance ... \n",
    "nltk_LR_of_surv"
   ]
  },
  {
   "cell_type": "markdown",
   "metadata": {},
   "source": [
    "### We can also look specifically at most frequent Adjectives on left of Voice and right of Voice as separate (not combined totals), as in adjectives before Voice and adjects which come after Voice"
   ]
  },
  {
   "cell_type": "code",
   "execution_count": 20,
   "metadata": {},
   "outputs": [
    {
     "data": {
      "text/plain": [
       "[(('best', 'JJS'), 12),\n",
       " (('nest', 'JJS'), 7),\n",
       " (('same', 'JJ'), 7),\n",
       " (('most', 'JJS'), 5),\n",
       " (('compatible', 'JJ'), 5),\n",
       " (('available', 'JJ'), 5),\n",
       " (('own', 'JJ'), 4),\n",
       " (('able', 'JJ'), 4),\n",
       " (('unidentified', 'JJ'), 4),\n",
       " (('affordable', 'JJ'), 3),\n",
       " (('agnostic', 'JJ'), 3),\n",
       " (('new', 'JJ'), 3),\n",
       " (('much', 'JJ'), 3),\n",
       " (('local', 'JJ'), 2),\n",
       " (('main', 'JJ'), 2)]"
      ]
     },
     "execution_count": 20,
     "metadata": {},
     "output_type": "execute_result"
    }
   ],
   "source": [
    "nltk_left_of_voice = []\n",
    "for line in Left_of_Voice:\n",
    "    for words in line:\n",
    "        word = [words]\n",
    "        if len(words) > 0:\n",
    "            tagged = nltk.pos_tag(word)\n",
    "            nltk_left_of_voice += tagged\n",
    "adjective_left_voice = Counter()\n",
    "for tagged_word in nltk_left_of_voice:\n",
    "    if tagged_word[1].startswith('J'):\n",
    "        #print(tagged_word)\n",
    "        adjective_left_voice.update([tagged_word])\n",
    "adjective_left_voice.most_common(15)"
   ]
  },
  {
   "cell_type": "code",
   "execution_count": 21,
   "metadata": {},
   "outputs": [
    {
     "data": {
      "text/plain": [
       "[(('best', 'JJS'), 9),\n",
       " (('other', 'JJ'), 8),\n",
       " (('nest', 'JJS'), 7),\n",
       " (('few', 'JJ'), 6),\n",
       " (('easier', 'JJR'), 3),\n",
       " (('much', 'JJ'), 3),\n",
       " (('same', 'JJ'), 3),\n",
       " (('google-owned', 'JJ'), 3),\n",
       " (('final', 'JJ'), 3),\n",
       " (('small', 'JJ'), 3),\n",
       " (('new', 'JJ'), 3),\n",
       " (('own', 'JJ'), 3),\n",
       " (('larger', 'JJR'), 3),\n",
       " (('unidentified', 'JJ'), 3),\n",
       " (('compatible', 'JJ'), 2)]"
      ]
     },
     "execution_count": 21,
     "metadata": {},
     "output_type": "execute_result"
    }
   ],
   "source": [
    "nltk_right_of_voice = []\n",
    "for line in Right_of_Voice:\n",
    "    for words in line:\n",
    "        word = [words]\n",
    "        if len(words) > 0:\n",
    "            tagged = nltk.pos_tag(word)\n",
    "            nltk_right_of_voice += tagged\n",
    "adjective_right_voice = Counter()\n",
    "for tagged_word in nltk_right_of_voice:\n",
    "    if tagged_word[1].startswith('J'):\n",
    "        #print(tagged_word)\n",
    "        adjective_right_voice.update([tagged_word])\n",
    "adjective_right_voice.most_common(15)"
   ]
  },
  {
   "cell_type": "markdown",
   "metadata": {},
   "source": [
    "_______\n",
    "# This jupyterhub document & analysis officially ends here, based on most recent request from Dr Turow!\n",
    "## Below is testing & other sample requests which we put together for reference"
   ]
  },
  {
   "cell_type": "code",
   "execution_count": 22,
   "metadata": {
    "scrolled": true
   },
   "outputs": [
    {
     "name": "stdout",
     "output_type": "stream",
     "text": [
      "Completed!\n"
     ]
    }
   ],
   "source": [
    "total_nltk_tokens = []\n",
    "target_nltk_tokens = []\n",
    "IN_and_PRP_tokens = []\n",
    "NNJJV_nlkt_tokens = []\n",
    "\n",
    "for article in articles_total:\n",
    "    for words in article['POS_tag']:\n",
    "        total_nltk_tokens += [words]\n",
    "        \n",
    "        # Excluding Prepositions & Pronouns as requested in original ticket by Dr Turow\n",
    "        # targeted_ = (words[1] == 'IN' or words[1] == 'FW')\n",
    "        #if not targeted_:\n",
    "            #target_nltk_tokens += [words]\n",
    "        \n",
    "        # Including Nouns, Verbs, Adjectives\n",
    "        targeted_nouns_verbs_adj = (words[1].startswith('NN') or words[1].startswith('JJ') or words[1].startswith('V'))\n",
    "        if targeted_nouns_verbs_adj:\n",
    "            NNJJV_nlkt_tokens += [words]\n",
    "        \n",
    "        else:\n",
    "            IN_and_PRP_tokens += [words]\n",
    "            \n",
    "if (len(total_nltk_tokens) - len(target_nltk_tokens)) or (len(total_nltk_tokens) - len(NNJJV_nlkt_tokens)) == len(IN_and_PRP_tokens):\n",
    "    print('Completed!')"
   ]
  },
  {
   "cell_type": "code",
   "execution_count": 23,
   "metadata": {},
   "outputs": [
    {
     "data": {
      "text/plain": [
       "('universal', 'NN')"
      ]
     },
     "execution_count": 23,
     "metadata": {},
     "output_type": "execute_result"
    }
   ],
   "source": [
    "# Random example of noun, verb, or adjective only\n",
    "NNJJV_nlkt_tokens[random.randint(0,len(NNJJV_nlkt_tokens))]"
   ]
  },
  {
   "cell_type": "code",
   "execution_count": 24,
   "metadata": {},
   "outputs": [
    {
     "data": {
      "text/plain": [
       "('can', 'MD')"
      ]
     },
     "execution_count": 24,
     "metadata": {},
     "output_type": "execute_result"
    }
   ],
   "source": [
    "# random from total\n",
    "total_nltk_tokens[random.randint(0,len(NNJJV_nlkt_tokens))]"
   ]
  },
  {
   "cell_type": "code",
   "execution_count": 25,
   "metadata": {},
   "outputs": [
    {
     "data": {
      "text/plain": [
       "[(('is', 'VBZ'), 928),\n",
       " (('smart', 'NN'), 796),\n",
       " (('amazon', 'NN'), 752),\n",
       " (('google', 'NN'), 450),\n",
       " (('home', 'NN'), 415),\n",
       " (('are', 'VBP'), 370),\n",
       " (('best', 'JJS'), 369),\n",
       " (('prime', 'NN'), 359),\n",
       " (('be', 'VB'), 341),\n",
       " (('alexa', 'NN'), 331),\n",
       " (('echo', 'NN'), 320),\n",
       " (('day', 'NN'), 311),\n",
       " (('has', 'VBZ'), 309),\n",
       " (('view', 'NN'), 296),\n",
       " (('click', 'NN'), 277)]"
      ]
     },
     "execution_count": 25,
     "metadata": {},
     "output_type": "execute_result"
    }
   ],
   "source": [
    "total_most_common_nltk_NVJ = Counter()\n",
    "for tokens in NNJJV_nlkt_tokens:\n",
    "    total_most_common_nltk_NVJ.update(get_ngram_tokens([tokens],1))\n",
    "total_most_common_nltk_NVJ.most_common(15)"
   ]
  },
  {
   "cell_type": "code",
   "execution_count": 26,
   "metadata": {},
   "outputs": [
    {
     "data": {
      "text/plain": [
       "[(('the', 'DT'), 4372),\n",
       " (('to', 'TO'), 2458),\n",
       " (('a', 'DT'), 2152),\n",
       " (('and', 'CC'), 2104),\n",
       " (('of', 'IN'), 1629),\n",
       " (('for', 'IN'), 1119),\n",
       " (('you', 'PRP'), 1004),\n",
       " (('in', 'IN'), 982),\n",
       " (('is', 'VBZ'), 928),\n",
       " (('that', 'IN'), 883),\n",
       " (('it', 'PRP'), 865),\n",
       " (('on', 'IN'), 841),\n",
       " (('with', 'IN'), 841),\n",
       " (('smart', 'NN'), 796),\n",
       " (('at', 'IN'), 783)]"
      ]
     },
     "execution_count": 26,
     "metadata": {},
     "output_type": "execute_result"
    }
   ],
   "source": [
    "total_most_common_nltk_other = Counter()\n",
    "for tokens in total_nltk_tokens:\n",
    "    total_most_common_nltk_other.update(get_ngram_tokens([tokens],1))\n",
    "total_most_common_nltk_other.most_common(15)"
   ]
  },
  {
   "cell_type": "code",
   "execution_count": 27,
   "metadata": {},
   "outputs": [
    {
     "data": {
      "text/plain": [
       "[]"
      ]
     },
     "execution_count": 27,
     "metadata": {},
     "output_type": "execute_result"
    }
   ],
   "source": [
    "total_most_common_nltk_tokens = Counter()\n",
    "for target_tokens in target_nltk_tokens:\n",
    "    total_most_common_nltk_tokens.update(get_ngram_tokens([target_tokens],1))\n",
    "total_most_common_nltk_tokens.most_common(30)"
   ]
  },
  {
   "cell_type": "code",
   "execution_count": 28,
   "metadata": {
    "scrolled": true
   },
   "outputs": [
    {
     "data": {
      "text/plain": [
       "[('click to view', 267),\n",
       " ('to view image', 265),\n",
       " ('all rights reserved', 70),\n",
       " ('the best smart', 67),\n",
       " ('see it at', 64),\n",
       " ('inc all rights', 62),\n",
       " ('view image chris', 59),\n",
       " ('image chris monroe/cnet', 59),\n",
       " ('if you want', 58),\n",
       " ('see at amazon', 58),\n",
       " ('a smart speaker', 53),\n",
       " ('prime day deals', 53),\n",
       " ('echo show 5', 50),\n",
       " ('2019 cnet newscom', 49),\n",
       " ('cnet newscom cnewsn', 49),\n",
       " ('newscom cnewsn english', 49),\n",
       " ('cnewsn english c', 49),\n",
       " ('english c cnet', 49),\n",
       " ('c cnet networks', 49),\n",
       " ('cnet networks inc', 49),\n",
       " ('networks inc all', 49),\n",
       " ('the nest hub', 44),\n",
       " ('a lot of', 39),\n",
       " ('the google home', 39),\n",
       " ('be able to', 39),\n",
       " ('the amazon echo', 38),\n",
       " ('one of the', 37),\n",
       " ('amazon echo show', 36),\n",
       " ('google nest hub', 36),\n",
       " ('it at amazonfire', 36)]"
      ]
     },
     "execution_count": 28,
     "metadata": {},
     "output_type": "execute_result"
    }
   ],
   "source": [
    "# Most common 3 token combinations in total_tokens list\n",
    "trigrams = Counter()\n",
    "trigrams.update(get_ngram_tokens(total_tokens,3))\n",
    "trigrams.most_common(30)"
   ]
  },
  {
   "cell_type": "code",
   "execution_count": null,
   "metadata": {},
   "outputs": [],
   "source": []
  }
 ],
 "metadata": {
  "kernelspec": {
   "display_name": "Python 3",
   "language": "python",
   "name": "python3"
  },
  "language_info": {
   "codemirror_mode": {
    "name": "ipython",
    "version": 3
   },
   "file_extension": ".py",
   "mimetype": "text/x-python",
   "name": "python",
   "nbconvert_exporter": "python",
   "pygments_lexer": "ipython3",
   "version": "3.7.0"
  }
 },
 "nbformat": 4,
 "nbformat_minor": 2
}
